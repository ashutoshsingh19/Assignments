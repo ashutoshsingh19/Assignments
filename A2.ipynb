{
  "nbformat": 4,
  "nbformat_minor": 0,
  "metadata": {
    "colab": {
      "name": "Untitled1.ipynb",
      "provenance": []
    },
    "kernelspec": {
      "name": "python3",
      "display_name": "Python 3"
    }
  },
  "cells": [
    {
      "cell_type": "code",
      "metadata": {
        "id": "xAm-SOSscrah"
      },
      "source": [
        "import numpy as np\n",
        "import matplotlib.pyplot as plt\n",
        "%matplotlib inline"
      ],
      "execution_count": 33,
      "outputs": []
    },
    {
      "cell_type": "code",
      "metadata": {
        "id": "n6sDtDq1Xbm2",
        "outputId": "611dd21a-6053-4c7c-8e75-594fa149f883",
        "colab": {
          "base_uri": "https://localhost:8080/",
          "height": 35
        }
      },
      "source": [
        "CA0 = 0.02*12.3/5\n",
        "CB0 = 0.1\n",
        "print(CA0, CB0)"
      ],
      "execution_count": 28,
      "outputs": [
        {
          "output_type": "stream",
          "text": [
            "0.04920000000000001 0.1\n"
          ],
          "name": "stdout"
        }
      ]
    },
    {
      "cell_type": "code",
      "metadata": {
        "id": "2UBN3MX4XqpB"
      },
      "source": [
        "CA0 = CA0/2\n",
        "CB0 = CB0/2\n",
        "M = CB0/CA0\n",
        "VR = 2.815  #Volume of the Reactor\n",
        "sample_vol = 5\n",
        "FXA, tau = [], []"
      ],
      "execution_count": 29,
      "outputs": []
    },
    {
      "cell_type": "markdown",
      "metadata": {
        "id": "PsSNNjQzaIQr"
      },
      "source": [
        "**First Set of Obs**"
      ]
    },
    {
      "cell_type": "code",
      "metadata": {
        "id": "7SDAv5A4X0Oc",
        "outputId": "91f8a80f-7eef-47d3-a923-be51725819c2",
        "colab": {
          "base_uri": "https://localhost:8080/",
          "height": 109
        }
      },
      "source": [
        "avg = 0\n",
        "print( 'First Set of Obs:')\n",
        "V0 = 0.0833 + 0.0833 #V0 = Va + Vb\n",
        "tau.append(VR/V0) #Residence Time in min\n",
        "v = [1.7,1.65,1.72]\n",
        "for i in v:\n",
        "  normality_NaOH = (i*0.02)/sample_vol #Na*Va = Nb*Vb\n",
        "  XA = 1 - (normality_NaOH/CA0) #CA0(1 - XA) = normality_NaOH\n",
        "  fXA = XA/(CA0*(1 - XA)*(M - XA)) #f(XA)\n",
        "  avg = avg + fXA\n",
        "  print(\"For Titer Vol = {} corresponding fXA = {}\".format(i, fXA))\n",
        "FXA.append(avg/3)\n",
        "print('The average value of fXA = ', FXA[0])"
      ],
      "execution_count": 30,
      "outputs": [
        {
          "output_type": "stream",
          "text": [
            "First Set of Obs:\n",
            "For Titer Vol = 1.7 corresponding fXA = 81.29338691998541\n",
            "For Titer Vol = 1.65 corresponding fXA = 85.22727272727272\n",
            "For Titer Vol = 1.72 corresponding fXA = 79.78876689432587\n",
            "The average value of fXA =  82.103142180528\n"
          ],
          "name": "stdout"
        }
      ]
    },
    {
      "cell_type": "markdown",
      "metadata": {
        "id": "pn0_ZTLharfb"
      },
      "source": [
        "**Second Set of Obs**"
      ]
    },
    {
      "cell_type": "code",
      "metadata": {
        "id": "7NIf0EiUYbED",
        "outputId": "63d2501a-f83e-4adf-c197-8ed4b5f911c7",
        "colab": {
          "base_uri": "https://localhost:8080/",
          "height": 109
        }
      },
      "source": [
        "avg = 0\n",
        "print( 'Second Set of Obs:')\n",
        "V0 = 0.125 + 0.125 #V0 = Va + Vb\n",
        "tau.append(VR/V0) #Residence Time in min\n",
        "v = [2.1,2.2,2.0]\n",
        "for i in v:\n",
        "  normality_NaOH = (i*0.02)/sample_vol #Na*Va = Nb*Vb\n",
        "  XA = 1 - (normality_NaOH/CA0) #CA0(1 - XA) = normality_NaOH\n",
        "  fXA = XA/(CA0*(1 - XA)*(M - XA)) #f(XA)\n",
        "  avg = avg + fXA\n",
        "  print(\"For Titer Vol = {} corresponding fXA = {}\".format(i, fXA))\n",
        "FXA.append(avg/3)\n",
        "print('The average value of fXA = ', FXA[1])"
      ],
      "execution_count": 31,
      "outputs": [
        {
          "output_type": "stream",
          "text": [
            "Second Set of Obs:\n",
            "For Titer Vol = 2.1 corresponding fXA = 57.05832628909553\n",
            "For Titer Vol = 2.2 corresponding fXA = 52.498670919723565\n",
            "For Titer Vol = 2.0 corresponding fXA = 62.125748502994014\n",
            "The average value of fXA =  57.227581903937704\n"
          ],
          "name": "stdout"
        }
      ]
    },
    {
      "cell_type": "markdown",
      "metadata": {
        "id": "KjlOVkW-ax0Y"
      },
      "source": [
        "**Third Set of Obs**"
      ]
    },
    {
      "cell_type": "code",
      "metadata": {
        "id": "KpGJDQ3HalrZ",
        "outputId": "37e21337-f946-41d5-fb29-fa9e788ae7aa",
        "colab": {
          "base_uri": "https://localhost:8080/",
          "height": 109
        }
      },
      "source": [
        "avg = 0\n",
        "print( 'Third Set of Obs:')\n",
        "V0 = 0.16667 + 0.16667 #V0 = Va + Vb\n",
        "tau.append(VR/V0) #Residence Time in min\n",
        "v = [2.6,2.5,2.4]\n",
        "for i in v:\n",
        "  normality_NaOH = (i*0.02)/sample_vol #Na*Va = Nb*Vb\n",
        "  XA = 1 - (normality_NaOH/CA0) #CA0(1 - XA) = normality_NaOH\n",
        "  fXA = XA/(CA0*(1 - XA)*(M - XA)) #f(XA)\n",
        "  avg = avg + fXA\n",
        "  print(\"For Titer Vol = {} corresponding fXA = {}\".format(i, fXA))\n",
        "FXA.append(avg/3)\n",
        "print('The average value of fXA = ', FXA[2])"
      ],
      "execution_count": 32,
      "outputs": [
        {
          "output_type": "stream",
          "text": [
            "Third Set of Obs:\n",
            "For Titer Vol = 2.6 corresponding fXA = 38.139235066609366\n",
            "For Titer Vol = 2.5 corresponding fXA = 41.24293785310734\n",
            "For Titer Vol = 2.4 corresponding fXA = 44.64285714285717\n",
            "The average value of fXA =  41.341676687524625\n"
          ],
          "name": "stdout"
        }
      ]
    },
    {
      "cell_type": "code",
      "metadata": {
        "id": "J1OHIh5LbsHH"
      },
      "source": [
        "x = np.array(tau)\n",
        "y = np.array(FXA)\n",
        "m, b = np.polyfit(x, y, 1)"
      ],
      "execution_count": 36,
      "outputs": []
    },
    {
      "cell_type": "code",
      "metadata": {
        "id": "v3VlYVFAc0MM",
        "outputId": "1e760310-7c86-499c-f6d5-2cb17b8e4baa",
        "colab": {
          "base_uri": "https://localhost:8080/",
          "height": 35
        }
      },
      "source": [
        "print('Slope = {}, intercept = {}'.format(m, b))"
      ],
      "execution_count": 37,
      "outputs": [
        {
          "output_type": "stream",
          "text": [
            "Slope = 4.764116333446098, intercept = 2.0993896476792098\n"
          ],
          "name": "stdout"
        }
      ]
    },
    {
      "cell_type": "code",
      "metadata": {
        "id": "t-wH_3KBc7W4",
        "outputId": "41a3f43d-87bd-4d24-fb98-8e0056ad0959",
        "colab": {
          "base_uri": "https://localhost:8080/",
          "height": 313
        }
      },
      "source": [
        "scat, = plt.plot(x, y, 'o', label = 'Measured')\n",
        "line1, = plt.plot(x, m*x + b, label='Model')\n",
        "plt.title('Regression Analysis')\n",
        "plt.xlabel('tau(sec)')\n",
        "plt.ylabel('f(XA)')\n",
        "plt.legend(handles=[scat, line1])"
      ],
      "execution_count": 42,
      "outputs": [
        {
          "output_type": "execute_result",
          "data": {
            "text/plain": [
              "<matplotlib.legend.Legend at 0x7f568fd8ed30>"
            ]
          },
          "metadata": {
            "tags": []
          },
          "execution_count": 42
        },
        {
          "output_type": "display_data",
          "data": {
            "image/png": "[encoded data removed]",
            "text/plain": [
              "<Figure size 432x288 with 1 Axes>"
            ]
          },
          "metadata": {
            "tags": [],
            "needs_background": "light"
          }
        }
      ]
    },
    {
      "cell_type": "code",
      "metadata": {
        "id": "BtH9LRZ9dOWE"
      },
      "source": [
        ""
      ],
      "execution_count": null,
      "outputs": []
    }
  ]
}