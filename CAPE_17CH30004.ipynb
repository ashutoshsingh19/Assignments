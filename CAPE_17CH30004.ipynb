{
  "nbformat": 4,
  "nbformat_minor": 0,
  "metadata": {
    "colab": {
      "name": "CAPE_17CH30004.ipynb",
      "provenance": []
    },
    "kernelspec": {
      "name": "python3",
      "display_name": "Python 3"
    }
  },
  "cells": [
    {
      "cell_type": "markdown",
      "metadata": {
        "id": "JtSUm_HrdNKf",
        "colab_type": "text"
      },
      "source": [
        "**Library Imports**"
      ]
    },
    {
      "cell_type": "code",
      "metadata": {
        "id": "7rv59JXn5qSM",
        "colab_type": "code",
        "colab": {}
      },
      "source": [
        "import sys\n",
        "import numpy as np\n",
        "from numpy.linalg import inv\n",
        "from fractions import Fraction"
      ],
      "execution_count": null,
      "outputs": []
    },
    {
      "cell_type": "markdown",
      "metadata": {
        "id": "XLU5E3ricLlZ",
        "colab_type": "text"
      },
      "source": [
        "**Feeding the Matrix A (Coefficients) and B**"
      ]
    },
    {
      "cell_type": "code",
      "metadata": {
        "id": "egiHabWH58uQ",
        "colab_type": "code",
        "colab": {
          "base_uri": "https://localhost:8080/",
          "height": 553
        },
        "outputId": "9117bd33-c879-4a0a-9cb1-40263afae4c8"
      },
      "source": [
        "mat = np.matrix('1 -1 -1 -1 -1 0 0 0 0 0 0 0; 0 1 0 0 0 0 0 0 -1 -1 -1 0; 0 0 0 1 0 0 1 0 0 0 1 -1; 0 0 0 0 1 -1 -1 -1 0 0 0 0; 1 0 0 0 0 0 0 0 0 0 0 0; 0 0 0 0 1 0 0 -5 0 0 0 0; 0 0 0 1 0 0 1 0 0 0 0 -0.84; 0.7 -1 -1 0 0 0 0 0 0 0 0 0; 0.55 0 0 0 0 0 0 0 -1 0 0 -1; 0 0 0 0 0 0 0 0 0.2 -1 0 0; 0 0.85 0 0 0 0 0 0 -1 0 -1 0; 0 0 0 0 0 3.2 -1 -1 0 0 0 0')\n",
        "mat_b = np.matrix('0; 0; 0; 0; 100; 0; 0; 0; 0; 0; 0; 0')\n",
        "print(\"Matrix A\\n\")\n",
        "print(mat)\n",
        "print(\"\\nMatrix B\\n\")\n",
        "print(mat_b)"
      ],
      "execution_count": null,
      "outputs": [
        {
          "output_type": "stream",
          "text": [
            "Matrix A\n",
            "\n",
            "[[ 1.   -1.   -1.   -1.   -1.    0.    0.    0.    0.    0.    0.    0.  ]\n",
            " [ 0.    1.    0.    0.    0.    0.    0.    0.   -1.   -1.   -1.    0.  ]\n",
            " [ 0.    0.    0.    1.    0.    0.    1.    0.    0.    0.    1.   -1.  ]\n",
            " [ 0.    0.    0.    0.    1.   -1.   -1.   -1.    0.    0.    0.    0.  ]\n",
            " [ 1.    0.    0.    0.    0.    0.    0.    0.    0.    0.    0.    0.  ]\n",
            " [ 0.    0.    0.    0.    1.    0.    0.   -5.    0.    0.    0.    0.  ]\n",
            " [ 0.    0.    0.    1.    0.    0.    1.    0.    0.    0.    0.   -0.84]\n",
            " [ 0.7  -1.   -1.    0.    0.    0.    0.    0.    0.    0.    0.    0.  ]\n",
            " [ 0.55  0.    0.    0.    0.    0.    0.    0.   -1.    0.    0.   -1.  ]\n",
            " [ 0.    0.    0.    0.    0.    0.    0.    0.    0.2  -1.    0.    0.  ]\n",
            " [ 0.    0.85  0.    0.    0.    0.    0.    0.   -1.    0.   -1.    0.  ]\n",
            " [ 0.    0.    0.    0.    0.    3.2  -1.   -1.    0.    0.    0.    0.  ]]\n",
            "\n",
            "Matrix B\n",
            "\n",
            "[[  0]\n",
            " [  0]\n",
            " [  0]\n",
            " [  0]\n",
            " [100]\n",
            " [  0]\n",
            " [  0]\n",
            " [  0]\n",
            " [  0]\n",
            " [  0]\n",
            " [  0]\n",
            " [  0]]\n"
          ],
          "name": "stdout"
        }
      ]
    },
    {
      "cell_type": "markdown",
      "metadata": {
        "id": "BQHYJ_t6cWrh",
        "colab_type": "text"
      },
      "source": [
        "**Matrix Inversion Method**"
      ]
    },
    {
      "cell_type": "code",
      "metadata": {
        "id": "4mQUUGfS76sK",
        "colab_type": "code",
        "colab": {
          "base_uri": "https://localhost:8080/",
          "height": 239
        },
        "outputId": "fca3d89e-9e8a-4645-8d4b-b3067b44ff41"
      },
      "source": [
        "mat_inv = inv(mat)\n",
        "ans = mat_inv*mat_b\n",
        "ans"
      ],
      "execution_count": null,
      "outputs": [
        {
          "output_type": "execute_result",
          "data": {
            "text/plain": [
              "matrix([[100.        ],\n",
              "        [ 40.        ],\n",
              "        [ 30.        ],\n",
              "        [  9.45652174],\n",
              "        [ 20.54347826],\n",
              "        [  4.89130435],\n",
              "        [ 11.54347826],\n",
              "        [  4.10869565],\n",
              "        [ 30.        ],\n",
              "        [  6.        ],\n",
              "        [  4.        ],\n",
              "        [ 25.        ]])"
            ]
          },
          "metadata": {
            "tags": []
          },
          "execution_count": 56
        }
      ]
    },
    {
      "cell_type": "markdown",
      "metadata": {
        "id": "mUD1erq-clWj",
        "colab_type": "text"
      },
      "source": [
        "**Creating Augmented Matrix**"
      ]
    },
    {
      "cell_type": "code",
      "metadata": {
        "id": "dFjWb9309mv4",
        "colab_type": "code",
        "colab": {}
      },
      "source": [
        "# Making numpy array of n x n+1 size and initializing to zero for storing augmented matrix\n",
        "a = np.zeros((n,n+1))\n",
        "\n",
        "# Making numpy array of n size and initializing to zero for storing solution vector\n",
        "x = np.zeros(n)\n",
        "\n",
        "# Augmented matrix coefficients\n",
        "for i in range(n):\n",
        "    for j in range(n):\n",
        "        a[i][j] = ma[i][j]\n",
        "for i in range(n):\n",
        "  j = n\n",
        "  a[i][j] = mat_b[i]"
      ],
      "execution_count": null,
      "outputs": []
    },
    {
      "cell_type": "markdown",
      "metadata": {
        "id": "c4QA5XJRcrBM",
        "colab_type": "text"
      },
      "source": [
        "**Function for Gauss Elimination Method**"
      ]
    },
    {
      "cell_type": "code",
      "metadata": {
        "id": "jzB8wOhsax7I",
        "colab_type": "code",
        "colab": {
          "base_uri": "https://localhost:8080/",
          "height": 296
        },
        "outputId": "63b57cc7-922f-44e8-8b10-dfbcb76d612f"
      },
      "source": [
        "def pprint(A):\n",
        "    n = len(A)\n",
        "    for i in range(0, n):\n",
        "        line = \"\"\n",
        "        for j in range(0, n + 1):\n",
        "            line += str(A[i][j]) + \"\\t\"\n",
        "            if j == n - 1:\n",
        "                line += \"| \"\n",
        "        print(line)\n",
        "    print(\"\")\n",
        "\n",
        "\n",
        "def gauss(A):\n",
        "    n = len(A)\n",
        "\n",
        "    for i in range(0, n):\n",
        "        # Search for maximum in this column\n",
        "        maxEl = abs(A[i][i])\n",
        "        maxRow = i\n",
        "        for k in range(i + 1, n):\n",
        "            if abs(A[k][i]) > maxEl:\n",
        "                maxEl = abs(A[k][i])\n",
        "                maxRow = k\n",
        "\n",
        "        # Swap maximum row with current row (column by column)\n",
        "        for k in range(i, n + 1):\n",
        "            tmp = A[maxRow][k]\n",
        "            A[maxRow][k] = A[i][k]\n",
        "            A[i][k] = tmp\n",
        "\n",
        "        # Make all rows below this one 0 in current column\n",
        "        for k in range(i + 1, n):\n",
        "            c = -A[k][i] / A[i][i]\n",
        "            for j in range(i, n + 1):\n",
        "                if i == j:\n",
        "                    A[k][j] = 0\n",
        "                else:\n",
        "                    A[k][j] += c * A[i][j]\n",
        "\n",
        "    # Solve equation Ax=b for an upper triangular matrix A\n",
        "    x = [0 for i in range(n)]\n",
        "    for i in range(n - 1, -1, -1):\n",
        "        x[i] = A[i][n] / A[i][i]\n",
        "        for k in range(i - 1, -1, -1):\n",
        "            A[k][n] -= A[k][i] * x[i]\n",
        "    return x\n",
        "\n",
        "\n",
        "if __name__ == \"__main__\":\n",
        "\n",
        "    n = 12\n",
        "    # Augmented Matrix A\n",
        "    A = a\n",
        "\n",
        "    # Print input\n",
        "    pprint(A)\n",
        "\n",
        "    # Calculate solution\n",
        "    x = gauss(A)\n",
        "\n",
        "    # Print result\n",
        "    line = \"Result:\\t\"\n",
        "    for i in range(0, n):\n",
        "        line += str(x[i]) + \"\\t\"\n",
        "    print(line)"
      ],
      "execution_count": null,
      "outputs": [
        {
          "output_type": "stream",
          "text": [
            "1.0\t-1.0\t-1.0\t-1.0\t-1.0\t0.0\t0.0\t0.0\t0.0\t0.0\t0.0\t0.0\t| 0.0\t\n",
            "0.0\t1.0\t0.0\t0.0\t0.0\t0.0\t0.0\t0.0\t-1.0\t-1.0\t-1.0\t0.0\t| 0.0\t\n",
            "0.0\t0.0\t0.0\t1.0\t0.0\t0.0\t1.0\t0.0\t0.0\t0.0\t1.0\t-1.0\t| 0.0\t\n",
            "0.0\t0.0\t0.0\t0.0\t1.0\t-1.0\t-1.0\t-1.0\t0.0\t0.0\t0.0\t0.0\t| 0.0\t\n",
            "0.0\t0.0\t1.0\t1.0\t1.0\t0.0\t0.0\t0.0\t1.0\t1.0\t1.0\t0.0\t| 100.0\t\n",
            "0.0\t0.0\t0.0\t0.0\t1.0\t0.0\t0.0\t-5.0\t0.0\t0.0\t0.0\t0.0\t| 0.0\t\n",
            "0.0\t0.0\t0.0\t1.0\t0.0\t0.0\t1.0\t0.0\t0.0\t0.0\t0.0\t-0.84\t| 0.0\t\n",
            "0.0\t0.0\t-0.30000000000000004\t0.7\t0.7\t0.0\t0.0\t0.0\t-0.30000000000000004\t-0.30000000000000004\t-0.30000000000000004\t0.0\t| 0.0\t\n",
            "0.0\t0.0\t0.55\t0.55\t0.55\t0.0\t0.0\t0.0\t-0.44999999999999996\t0.55\t0.55\t-1.0\t| 0.0\t\n",
            "0.0\t0.0\t0.0\t0.0\t0.0\t0.0\t0.0\t0.0\t0.2\t-1.0\t0.0\t0.0\t| 0.0\t\n",
            "0.0\t0.0\t0.0\t0.0\t0.0\t0.0\t0.0\t0.0\t-0.15000000000000002\t0.85\t-0.15000000000000002\t0.0\t| 0.0\t\n",
            "0.0\t0.0\t0.0\t0.0\t0.0\t3.2\t-1.0\t-1.0\t0.0\t0.0\t0.0\t0.0\t| 0.0\t\n",
            "\n",
            "Result:\t100.0\t40.000000000000014\t29.999999999999986\t9.456521739130416\t20.543478260869584\t4.891304347826091\t11.543478260869577\t4.1086956521739175\t30.000000000000014\t6.000000000000003\t3.9999999999999996\t24.999999999999993\t\n"
          ],
          "name": "stdout"
        }
      ]
    }
  ]
}