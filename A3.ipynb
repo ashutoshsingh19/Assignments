{
  "nbformat": 4,
  "nbformat_minor": 0,
  "metadata": {
    "colab": {
      "name": "Copy of A2_CRE.ipynb",
      "provenance": []
    },
    "kernelspec": {
      "name": "python3",
      "display_name": "Python 3"
    }
  },
  "cells": [
    {
      "cell_type": "markdown",
      "metadata": {
        "id": "p1Nl2RH4SMVU"
      },
      "source": [
        "#17CH30004_ASHUTOSH_SINGH - CRE_LAB_ASSINGMENT_3"
      ]
    },
    {
      "cell_type": "markdown",
      "metadata": {
        "id": "B6yuVxViIYB9"
      },
      "source": [
        "# **Imports**"
      ]
    },
    {
      "cell_type": "code",
      "metadata": {
        "id": "xAm-SOSscrah"
      },
      "source": [
        "import numpy as np\n",
        "import matplotlib.pyplot as plt\n",
        "%matplotlib inline"
      ],
      "execution_count": null,
      "outputs": []
    },
    {
      "cell_type": "markdown",
      "metadata": {
        "id": "O-uy18hrIcfe"
      },
      "source": [
        "# **CODE**"
      ]
    },
    {
      "cell_type": "markdown",
      "metadata": {
        "id": "Kd26mggMIhge"
      },
      "source": [
        "1. Data which is given"
      ]
    },
    {
      "cell_type": "code",
      "metadata": {
        "id": "n6sDtDq1Xbm2"
      },
      "source": [
        "# Kinetic Study of the batch reactor\n",
        "# Reaction: 𝑁𝑎𝑂𝐻(A) + 𝐶𝐻3𝐶𝑂𝑂𝐶2𝐻5(B) → 𝐶𝐻3𝐶𝑂𝑂𝑁𝑎 + 𝐶2𝐻5𝑂𝐻\n",
        "# Normality of Succinic Acid = 0.02 N\n",
        "# Calculating the normality of NaOH after standardization\n",
        "\n",
        "\n",
        "CA0 = 0.02*11.5/5                                                               # in mol/L\n",
        "CB0 = 0.902/88.11*1000                                                          # in mol/L\n",
        "# Calculating the concentrations of the two reactants after they are added into the reactor\n",
        "CA0 = CA0*(1000/1009)\n",
        "CB0 = CB0*(9/1009)\n",
        "M = CB0/CA0                                                                     # The value of M comes out to be 2\n",
        "V_NaOH = 1000                                                                   # Volume of NaOH taken in reactor in ml\n",
        "sample_vol = 5                                                                  # sample volume taken for titration\n",
        "T = [288,298,308]                                                               #Defining an array to store the value of temperatures\n",
        "K = np.zeros((1,3)) "
      ],
      "execution_count": null,
      "outputs": []
    },
    {
      "cell_type": "markdown",
      "metadata": {
        "id": "aWXl9n3CImRo"
      },
      "source": [
        "2. Arrays to store the data"
      ]
    },
    {
      "cell_type": "code",
      "metadata": {
        "id": "7Cz_FxU6-qYB"
      },
      "source": [
        "FXA = []\n",
        "K = []"
      ],
      "execution_count": null,
      "outputs": []
    },
    {
      "cell_type": "markdown",
      "metadata": {
        "id": "f28y-l_COW1H"
      },
      "source": [
        "# **Regression Plot Function**"
      ]
    },
    {
      "cell_type": "code",
      "metadata": {
        "id": "GrCpknrN_MKv"
      },
      "source": [
        "def regress_plot(x,y):\n",
        "    M = 2\n",
        "    CA0 = 0.02*11.5/5*(1000/1009)\n",
        "    print('The value of time and f(XA) are respectively')\n",
        "    print(x)\n",
        "    print(y.T)\n",
        "    \n",
        "    # Regression Analysis\n",
        "    m, b = np.polyfit(x, y, 1)\n",
        "    scat, = plt.plot(x, y, 'o', label = 'Measured')\n",
        "    line1, = plt.plot(x, m*x + b, label='Model')\n",
        "    plt.title('Regression Analysis')\n",
        "    plt.xlabel( 't (min)')\n",
        "    plt.ylabel( 'f(XA)' )\n",
        "    plt.legend(handles=[scat, line1])\n",
        "    \n",
        "    print('Slope of the line after regression: ', m)\n",
        "    print('Value of Rate Constant: ', m/(CA0*(M-1)))\n",
        "    K = m/(CA0*(M-1))\n",
        "    return K"
      ],
      "execution_count": null,
      "outputs": []
    },
    {
      "cell_type": "markdown",
      "metadata": {
        "id": "J8bB06UeIsCd"
      },
      "source": [
        "## **Observation Specific Results**"
      ]
    },
    {
      "cell_type": "markdown",
      "metadata": {
        "id": "1vEmbxH0I7h7"
      },
      "source": [
        "**First Set of Observations**"
      ]
    },
    {
      "cell_type": "code",
      "metadata": {
        "id": "2UBN3MX4XqpB",
        "outputId": "da437295-3541-41b0-b442-4413b187198e",
        "colab": {
          "base_uri": "https://localhost:8080/",
          "height": 554
        }
      },
      "source": [
        "# Observations at Temperature = 15 ºC\n",
        "print('First Set of Obs:')\n",
        "t = [2,4,6,8,10,12,14]                                                          # Defining the time array\n",
        "v = [6.5,4.7,3.8,3.1,2.2,1.8,1.5]                                               # Defining the titer volume array\n",
        "fXA = np.zeros((len(v), 1))\n",
        "XA = np.zeros((len(v), 1))\n",
        "normality_NaOH = np.zeros((len(v), 1))\n",
        "for i in range(len(v)):\n",
        "  normality_NaOH[i] = (v[i]*0.02)/sample_vol                                    # Na*Va = Nb*Vb\n",
        "  XA[i] = 1 - (normality_NaOH[i]/CA0)                                           # CA0(1 - XA) = normality_NaOH\n",
        "  fXA[i] = np.log((M-XA[i])/(M*(1-XA[i])))                                      # f(XA)\n",
        "  print('For Titer Vol = {} ml || corresponding normality = {} || corresponding XA = {} || corresponding fXA = {}'.format(v[i], normality_NaOH[i], XA[i], fXA[i]))\n",
        "\n",
        "FXA.append(np.sum(fXA)/len(v))\n",
        "K.append(regress_plot(t,fXA))"
      ],
      "execution_count": null,
      "outputs": [
        {
          "output_type": "stream",
          "text": [
            "First Set of Obs:\n",
            "For Titer Vol = 6.5 ml || corresponding normality = [0.026] || corresponding XA = [0.42969565] || corresponding fXA = [0.32010776]\n",
            "For Titer Vol = 4.7 ml || corresponding normality = [0.0188] || corresponding XA = [0.58762609] || corresponding fXA = [0.5385582]\n",
            "For Titer Vol = 3.8 ml || corresponding normality = [0.0152] || corresponding XA = [0.6665913] || corresponding fXA = [0.69370896]\n",
            "For Titer Vol = 3.1 ml || corresponding normality = [0.0124] || corresponding XA = [0.7280087] || corresponding fXA = [0.85025885]\n",
            "For Titer Vol = 2.2 ml || corresponding normality = [0.0088] || corresponding XA = [0.80697391] || corresponding fXA = [1.12926514]\n",
            "For Titer Vol = 1.8 ml || corresponding normality = [0.0072] || corresponding XA = [0.84206957] || corresponding fXA = [1.30015141]\n",
            "For Titer Vol = 1.5 ml || corresponding normality = [0.006] || corresponding XA = [0.8683913] || corresponding fXA = [1.45953764]\n",
            "The value of time and f(XA) are respectively\n",
            "[2, 4, 6, 8, 10, 12, 14]\n",
            "[[0.32010776 0.5385582  0.69370896 0.85025885 1.12926514 1.30015141\n",
            "  1.45953764]]\n",
            "Slope of the line after regression:  [0.09601843]\n",
            "Value of Rate Constant:  [2.10614346]\n"
          ],
          "name": "stdout"
        },
        {
          "output_type": "display_data",
          "data": {
            "image/png": "[encoded data removed]",
            "text/plain": [
              "<Figure size 432x288 with 1 Axes>"
            ]
          },
          "metadata": {
            "tags": [],
            "needs_background": "light"
          }
        }
      ]
    },
    {
      "cell_type": "markdown",
      "metadata": {
        "id": "yfdA9zmHJAkK"
      },
      "source": [
        "**Second Set of Observations**"
      ]
    },
    {
      "cell_type": "code",
      "metadata": {
        "id": "XVd6s21hHa6I",
        "outputId": "d6c37cc8-f926-4bb3-b777-4b9d2e2cb15e",
        "colab": {
          "base_uri": "https://localhost:8080/",
          "height": 572
        }
      },
      "source": [
        "# Observations at Temperature = 25 ºC\n",
        "print('Second Set of Obs:')\n",
        "t = [1,2,3,4,5,6,7,8]                                                           # Defining the time array\n",
        "v = [6.8,5.6,4,3.1,2.2,1.7,1.2,1.1]                                             # Defining the titer volume array\n",
        "fXA = np.zeros((len(v), 1))\n",
        "XA = np.zeros((len(v), 1))\n",
        "normality_NaOH = np.zeros((len(v), 1))\n",
        "for i in range(len(v)):\n",
        "  normality_NaOH[i] = (v[i]*0.02)/sample_vol                                    # Na*Va = Nb*Vb\n",
        "  XA[i] = 1 - (normality_NaOH[i]/CA0)                                           # CA0(1 - XA) = normality_NaOH\n",
        "  fXA[i] = np.log((M-XA[i])/(M*(1-XA[i])))                                      # f(XA)\n",
        "  print('For Titer Vol = {} ml || corresponding normality = {} || corresponding XA = {} || corresponding fXA = {}'.format(v[i], normality_NaOH[i], XA[i], fXA[i]))\n",
        "\n",
        "FXA.append(np.sum(fXA)/len(v))\n",
        "K.append(regress_plot(t,fXA))"
      ],
      "execution_count": null,
      "outputs": [
        {
          "output_type": "stream",
          "text": [
            "Second Set of Obs:\n",
            "For Titer Vol = 6.8 ml || corresponding normality = [0.0272] || corresponding XA = [0.40337391] || corresponding fXA = [0.29157986]\n",
            "For Titer Vol = 5.6 ml || corresponding normality = [0.0224] || corresponding XA = [0.50866087] || corresponding fXA = [0.41764699]\n",
            "For Titer Vol = 4 ml || corresponding normality = [0.016] || corresponding XA = [0.64904348] || corresponding fXA = [0.65546145]\n",
            "For Titer Vol = 3.1 ml || corresponding normality = [0.0124] || corresponding XA = [0.7280087] || corresponding fXA = [0.85025885]\n",
            "For Titer Vol = 2.2 ml || corresponding normality = [0.0088] || corresponding XA = [0.80697391] || corresponding fXA = [1.12926514]\n",
            "For Titer Vol = 1.7 ml || corresponding normality = [0.0068] || corresponding XA = [0.85084348] || corresponding fXA = [1.34972301]\n",
            "For Titer Vol = 1.2 ml || corresponding normality = [0.0048] || corresponding XA = [0.89471304] || corresponding fXA = [1.65920746]\n",
            "For Titer Vol = 1.1 ml || corresponding normality = [0.0044] || corresponding XA = [0.90348696] || corresponding fXA = [1.73827019]\n",
            "The value of time and f(XA) are respectively\n",
            "[1, 2, 3, 4, 5, 6, 7, 8]\n",
            "[[0.29157986 0.41764699 0.65546145 0.85025885 1.12926514 1.34972301\n",
            "  1.65920746 1.73827019]]\n",
            "Slope of the line after regression:  [0.2225765]\n",
            "Value of Rate Constant:  [4.88216705]\n"
          ],
          "name": "stdout"
        },
        {
          "output_type": "display_data",
          "data": {
            "image/png": "[encoded data removed]",
            "text/plain": [
              "<Figure size 432x288 with 1 Axes>"
            ]
          },
          "metadata": {
            "tags": [],
            "needs_background": "light"
          }
        }
      ]
    },
    {
      "cell_type": "markdown",
      "metadata": {
        "id": "zRM5xpKEJCVJ"
      },
      "source": [
        "**Third Set of Observations**"
      ]
    },
    {
      "cell_type": "code",
      "metadata": {
        "id": "7Ud5kSBwHatf",
        "outputId": "b9996b53-d813-440c-e1e8-450fb8a8b248",
        "colab": {
          "base_uri": "https://localhost:8080/",
          "height": 572
        }
      },
      "source": [
        "# Observations at Temperature = 35 ºC\n",
        "print('Third Set of Obs:')\n",
        "t = [1,2,3,4,5,6,7,8]                                                           # Defining the time array\n",
        "v = [6.3,5.2,3.9,2.6,1.9,1.2,0.9,0.5]                                           # Defining the titer volume array\n",
        "fXA = np.zeros((len(v), 1))\n",
        "XA = np.zeros((len(v), 1))\n",
        "normality_NaOH = np.zeros((len(v), 1))\n",
        "for i in range(len(v)):\n",
        "  normality_NaOH[i] = (v[i]*0.02)/sample_vol                                    # Na*Va = Nb*Vb\n",
        "  XA[i] = 1 - (normality_NaOH[i]/CA0)                                           # CA0(1 - XA) = normality_NaOH\n",
        "  fXA[i] = np.log((M-XA[i])/(M*(1-XA[i])))                                      # f(XA)\n",
        "  print('For Titer Vol = {} ml || corresponding normality = {} || corresponding XA = {} || corresponding fXA = {}'.format(v[i], normality_NaOH[i], XA[i], fXA[i]))\n",
        "\n",
        "FXA.append(np.sum(fXA)/len(v))\n",
        "K.append(regress_plot(t,fXA))"
      ],
      "execution_count": null,
      "outputs": [
        {
          "output_type": "stream",
          "text": [
            "Third Set of Obs:\n",
            "For Titer Vol = 6.3 ml || corresponding normality = [0.0252] || corresponding XA = [0.44724348] || corresponding fXA = [0.34014365]\n",
            "For Titer Vol = 5.2 ml || corresponding normality = [0.0208] || corresponding XA = [0.54375652] || corresponding fXA = [0.46798793]\n",
            "For Titer Vol = 3.9 ml || corresponding normality = [0.0156] || corresponding XA = [0.65781739] || corresponding fXA = [0.67427764]\n",
            "For Titer Vol = 2.6 ml || corresponding normality = [0.0104] || corresponding XA = [0.77187826] || corresponding fXA = [0.99113397]\n",
            "For Titer Vol = 1.9 ml || corresponding normality = [0.0076] || corresponding XA = [0.83329565] || corresponding fXA = [1.25361387]\n",
            "For Titer Vol = 1.2 ml || corresponding normality = [0.0048] || corresponding XA = [0.89471304] || corresponding fXA = [1.65920746]\n",
            "For Titer Vol = 0.9 ml || corresponding normality = [0.0036] || corresponding XA = [0.92103478] || corresponding fXA = [1.92285151]\n",
            "For Titer Vol = 0.5 ml || corresponding normality = [0.002] || corresponding XA = [0.95613043] || corresponding fXA = [2.47766135]\n",
            "The value of time and f(XA) are respectively\n",
            "[1, 2, 3, 4, 5, 6, 7, 8]\n",
            "[[0.34014365 0.46798793 0.67427764 0.99113397 1.25361387 1.65920746\n",
            "  1.92285151 2.47766135]]\n",
            "Slope of the line after regression:  [0.30302632]\n",
            "Value of Rate Constant:  [6.64681652]\n"
          ],
          "name": "stdout"
        },
        {
          "output_type": "display_data",
          "data": {
            "image/png": "[encoded data removed]",
            "text/plain": [
              "<Figure size 432x288 with 1 Axes>"
            ]
          },
          "metadata": {
            "tags": [],
            "needs_background": "light"
          }
        }
      ]
    },
    {
      "cell_type": "markdown",
      "metadata": {
        "id": "Rt1zv00KP4mF"
      },
      "source": [
        "# **Plot Between ln(K) vs (1/T)**"
      ]
    },
    {
      "cell_type": "code",
      "metadata": {
        "id": "SzGYo0GzPZls",
        "outputId": "e746fede-510c-4efb-d420-db422f03755f",
        "colab": {
          "base_uri": "https://localhost:8080/",
          "height": 313
        }
      },
      "source": [
        "T1_in = 1.0/(15.0 + 273.0)\n",
        "T2_in = 1.0/(25.0 + 273.0)\n",
        "T3_in = 1.0/(35.0 + 273.0)\n",
        "\n",
        "T = np.array([T1_in, T2_in, T3_in])\n",
        "lK = np.log(K)\n",
        "m, b = np.polyfit(T, lK, 1)\n",
        "scat, = plt.plot(T, lK, 'o', label = 'Measured')\n",
        "line1, = plt.plot(T, m*T + b, label='Model')\n",
        "plt.title('Regression Analysis')\n",
        "plt.xlabel('(1/T)')\n",
        "plt.ylabel('ln(K)')\n",
        "plt.legend(handles=[scat, line1])\n",
        "\n",
        "print('Slope of the line after regression: ', m)"
      ],
      "execution_count": null,
      "outputs": [
        {
          "output_type": "stream",
          "text": [
            "Slope of the line after regression:  [-5121.76383563]\n"
          ],
          "name": "stdout"
        },
        {
          "output_type": "display_data",
          "data": {
            "image/png": "[encoded data removed]",
            "text/plain": [
              "<Figure size 432x288 with 1 Axes>"
            ]
          },
          "metadata": {
            "tags": [],
            "needs_background": "light"
          }
        }
      ]
    }
  ]
}